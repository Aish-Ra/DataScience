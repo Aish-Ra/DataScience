{
 "cells": [
  {
   "cell_type": "markdown",
   "metadata": {},
   "source": [
    "This exercise will require you to pull some data from the Qunadl API. Qaundl is currently the most widely used aggregator of financial market data."
   ]
  },
  {
   "cell_type": "markdown",
   "metadata": {},
   "source": [
    "As a first step, you will need to register a free account on the http://www.quandl.com website."
   ]
  },
  {
   "cell_type": "markdown",
   "metadata": {},
   "source": [
    "After you register, you will be provided with a unique API key, that you should store:"
   ]
  },
  {
   "cell_type": "code",
   "execution_count": 1,
   "metadata": {},
   "outputs": [],
   "source": [
    "# Store the API key as a string - according to PEP8, constants are always named in all upper case\n",
    "API_KEY = 'KEY'"
   ]
  },
  {
   "cell_type": "markdown",
   "metadata": {},
   "source": [
    "Qaundl has a large number of data sources, but, unfortunately, most of them require a Premium subscription. Still, there are also a good number of free datasets."
   ]
  },
  {
   "cell_type": "markdown",
   "metadata": {},
   "source": [
    "For this mini project, we will focus on equities data from the Frankfurt Stock Exhange (FSE), which is available for free. We'll try and analyze the stock prices of a company called Carl Zeiss Meditec, which manufactures tools for eye examinations, as well as medical lasers for laser eye surgery: https://www.zeiss.com/meditec/int/home.html. The company is listed under the stock ticker AFX_X."
   ]
  },
  {
   "cell_type": "markdown",
   "metadata": {},
   "source": [
    "You can find the detailed Quandl API instructions here: https://docs.quandl.com/docs/time-series"
   ]
  },
  {
   "cell_type": "markdown",
   "metadata": {},
   "source": [
    "While there is a dedicated Python package for connecting to the Quandl API, we would prefer that you use the *requests* package, which can be easily downloaded using *pip* or *conda*. You can find the documentation for the package here: http://docs.python-requests.org/en/master/ "
   ]
  },
  {
   "cell_type": "markdown",
   "metadata": {},
   "source": [
    "Finally, apart from the *requests* package, you are encouraged to not use any third party Python packages, such as *pandas*, and instead focus on what's available in the Python Standard Library (the *collections* module might come in handy: https://pymotw.com/3/collections/ ).\n",
    "Also, since you won't have access to DataFrames, you are encouraged to us Python's native data structures - preferably dictionaries, though some questions can also be answered using lists.\n",
    "You can read more on these data structures here: https://docs.python.org/3/tutorial/datastructures.html"
   ]
  },
  {
   "cell_type": "markdown",
   "metadata": {},
   "source": [
    "Keep in mind that the JSON responses you will be getting from the API map almost one-to-one to Python's dictionaries. Unfortunately, they can be very nested, so make sure you read up on indexing dictionaries in the documentation provided above."
   ]
  },
  {
   "cell_type": "code",
   "execution_count": 2,
   "metadata": {},
   "outputs": [],
   "source": [
    "# First, import the relevant modules\n",
    "import requests\n",
    "import json"
   ]
  },
  {
   "cell_type": "code",
   "execution_count": 3,
   "metadata": {},
   "outputs": [
    {
     "name": "stdout",
     "output_type": "stream",
     "text": [
      "{\"dataset_data\":{\"limit\":null,\"transform\":null,\"column_index\":null,\"column_names\":[\"Date\",\"Open\",\"High\",\"Low\",\"Close\",\"Change\",\"Traded Volume\",\"Turnover\",\"Last Price of the Day\",\"Daily Traded Units\",\"Daily Turnover\"],\"start_date\":\"2017-10-16\",\"end_date\":\"2017-10-16\",\"frequency\":\"daily\",\"data\":[[\"2017-10-16\",45.61,45.75,45.3,45.55,null,49246.0,2243129.0,null,null,null]],\"collapse\":null,\"order\":null}}\n"
     ]
    }
   ],
   "source": [
    "# Now, call the Quandl API and pull out a small sample of the data (only one day) to get a glimpse\n",
    "# into the JSON structure that will be returned\n",
    "database_code='FSE'\n",
    "dataset_code='AFX_X'\n",
    "return_format= 'json'\n",
    "URL= 'https://www.quandl.com/api/v3/datasets/'+database_code+'/'+dataset_code+'/data.'+return_format\n",
    "\n",
    "param1= dict(api_key= API_KEY,start_date='2017-10-16',end_date='2017-10-16')\n",
    "\n",
    "data1 = requests.get(URL, params=param1)\n",
    "\n",
    "print(data1.text)"
   ]
  },
  {
   "cell_type": "code",
   "execution_count": 4,
   "metadata": {},
   "outputs": [],
   "source": [
    "# Inspect the JSON structure of the object you created, and take note of how nested it is,\n",
    "# as well as the overall structure\n",
    "data_json=data1.json()\n"
   ]
  },
  {
   "cell_type": "markdown",
   "metadata": {},
   "source": [
    "These are your tasks for this mini project:\n",
    "\n",
    "1. Collect data from the Franfurt Stock Exchange, for the ticker AFX_X, for the whole year 2017 (keep in mind that the date format is YYYY-MM-DD).\n",
    "2. Convert the returned JSON object into a Python dictionary.\n",
    "3. Calculate what the highest and lowest opening prices were for the stock in this period.\n",
    "4. What was the largest change in any one day (based on High and Low price)?\n",
    "5. What was the largest change between any two days (based on Closing Price)?\n",
    "6. What was the average daily trading volume during this year?\n",
    "7. (Optional) What was the median trading volume during this year. (Note: you may need to implement your own function for calculating the median.)"
   ]
  },
  {
   "cell_type": "code",
   "execution_count": 5,
   "metadata": {},
   "outputs": [
    {
     "name": "stdout",
     "output_type": "stream",
     "text": [
      "Highest and lowest opening prices: $ 53.11  and $ 34.0\n",
      "Largest change in any one day (based on High and Low price): $ 2.8100000000000023\n",
      "Largest change between any two days (based on Closing Price): $ 19.03\n",
      "Average daily trading volume during this year 89124.33725490196\n",
      "Median trading volume during this year: 76286.0\n"
     ]
    }
   ],
   "source": [
    "# Collect data from the Franfurt Stock Exchange, for the ticker AFX_X, for the whole year 2017 (keep in mind that the date format is YYYY-MM-DD).\n",
    "\n",
    "param= dict(api_key= API_KEY,start_date='2017-01-01',end_date='2017-12-31')\n",
    "\n",
    "response= requests.get(URL, params=param)\n",
    "\n",
    "# Convert the returned JSON object into a Python dictionary.\n",
    "\n",
    "response_dict= response.json()\n",
    "\n",
    "# Calculate what the highest and lowest opening prices were for the stock in this period.\n",
    "\n",
    "opening_prices=[]\n",
    "for data in response_dict['dataset_data']['data']:\n",
    "    if data[1] != None:\n",
    "        opening_prices.append(data[1])\n",
    "print('Highest and lowest opening prices: $',max(opening_prices),' and $',min(opening_prices))\n",
    "\n",
    "# What was the largest change in any one day (based on High and Low price)?\n",
    "#2,3\n",
    "change_one_day=[]\n",
    "for data in response_dict['dataset_data']['data']:\n",
    "    if data[2] != None and data[3] != None:\n",
    "        change_one_day.append(data[2]-data[3])\n",
    "print('Largest change in any one day (based on High and Low price): $', max(change_one_day))\n",
    "\n",
    "# What was the largest change between any two days (based on Closing Price)?\n",
    "\n",
    "change_two_days=[]\n",
    "for data in response_dict['dataset_data']['data']:\n",
    "    if data[4] != None:\n",
    "        change_two_days.append(data[4])\n",
    "print('Largest change between any two days (based on Closing Price): $', max(change_two_days)-min(change_two_days))\n",
    "\n",
    "# What was the average daily trading volume during this year?\n",
    "\n",
    "trading_volume=[]\n",
    "for data in response_dict['dataset_data']['data']:\n",
    "    if data[6] != None:\n",
    "        trading_volume.append(data[6])\n",
    "print('Average daily trading volume during this year',sum(trading_volume)/len(trading_volume))\n",
    "\n",
    "# (Optional) What was the median trading volume during this year. (Note: you may need to implement your own function for calculating the median.)\n",
    "\n",
    "trading_volume.sort()\n",
    "length=len(trading_volume)\n",
    "if  length%2 == 0:\n",
    "    median=(trading_volume[int(length/2)]+trading_volume[int(length/2)+1])/2\n",
    "else:\n",
    "    median=trading_volume[int(length/2)]\n",
    "print('Median trading volume during this year:',median)\n"
   ]
  }
 ],
 "metadata": {
  "kernelspec": {
   "display_name": "Python 3",
   "language": "python",
   "name": "python3"
  },
  "language_info": {
   "codemirror_mode": {
    "name": "ipython",
    "version": 3
   },
   "file_extension": ".py",
   "mimetype": "text/x-python",
   "name": "python",
   "nbconvert_exporter": "python",
   "pygments_lexer": "ipython3",
   "version": "3.7.4"
  }
 },
 "nbformat": 4,
 "nbformat_minor": 2
}
